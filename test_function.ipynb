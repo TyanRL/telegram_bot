{
 "cells": [
  {
   "cell_type": "code",
   "execution_count": 1,
   "metadata": {},
   "outputs": [],
   "source": [
    "import dotenv\n",
    "from weather import get_weather_by_coordinates, get_weather_description"
   ]
  },
  {
   "cell_type": "code",
   "execution_count": 2,
   "metadata": {},
   "outputs": [
    {
     "data": {
      "text/plain": [
       "True"
      ]
     },
     "execution_count": 2,
     "metadata": {},
     "output_type": "execute_result"
    }
   ],
   "source": [
    "dotenv.load_dotenv()"
   ]
  },
  {
   "cell_type": "code",
   "execution_count": 3,
   "metadata": {},
   "outputs": [
    {
     "name": "stdout",
     "output_type": "stream",
     "text": [
      "{'coord': {'lon': 42.8632, 'lat': 44.0352}, 'weather': [{'id': 804, 'main': 'Clouds', 'description': 'пасмурно', 'icon': '04n'}], 'base': 'stations', 'main': {'temp': -1.84, 'feels_like': -7.28, 'temp_min': -1.84, 'temp_max': -1.84, 'pressure': 1028, 'humidity': 93, 'sea_level': 1028, 'grnd_level': 935}, 'visibility': 10000, 'wind': {'speed': 5.11, 'deg': 121, 'gust': 9.64}, 'clouds': {'all': 100}, 'dt': 1733594562, 'sys': {'type': 1, 'id': 8966, 'country': 'RU', 'sunrise': 1733545797, 'sunset': 1733578234}, 'timezone': 10800, 'id': 466990, 'name': 'Ессентуки', 'cod': 200}\n"
     ]
    }
   ],
   "source": [
    "weather= get_weather_by_coordinates(44.035242,42.863166)\n",
    "print(weather)"
   ]
  },
  {
   "cell_type": "code",
   "execution_count": 4,
   "metadata": {},
   "outputs": [
    {
     "data": {
      "text/plain": [
       "'\\nЕссентуки: пасмурно, температура: -1.84°C, чувствуется как -7.28°C.\\nДавление 1028 гПа, влажность 93%, скорость ветра 5.11 м/с.\\n'"
      ]
     },
     "metadata": {},
     "output_type": "display_data"
    }
   ],
   "source": [
    "\n",
    "display(get_weather_description(44.035242,42.863166))"
   ]
  }
 ],
 "metadata": {
  "kernelspec": {
   "display_name": "base",
   "language": "python",
   "name": "python3"
  },
  "language_info": {
   "codemirror_mode": {
    "name": "ipython",
    "version": 3
   },
   "file_extension": ".py",
   "mimetype": "text/x-python",
   "name": "python",
   "nbconvert_exporter": "python",
   "pygments_lexer": "ipython3",
   "version": "3.12.3"
  }
 },
 "nbformat": 4,
 "nbformat_minor": 2
}
