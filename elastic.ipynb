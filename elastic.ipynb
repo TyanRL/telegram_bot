{
 "cells": [
  {
   "cell_type": "code",
   "execution_count": 1,
   "metadata": {},
   "outputs": [],
   "source": [
    "import dotenv\n",
    "from elastic import get_connection, create_indexes, add_note, get_notes_by_query, get_all_user_notes"
   ]
  },
  {
   "cell_type": "code",
   "execution_count": 2,
   "metadata": {},
   "outputs": [
    {
     "data": {
      "text/plain": [
       "True"
      ]
     },
     "execution_count": 2,
     "metadata": {},
     "output_type": "execute_result"
    }
   ],
   "source": [
    "\n",
    "dotenv.load_dotenv()"
   ]
  },
  {
   "cell_type": "code",
   "execution_count": 3,
   "metadata": {},
   "outputs": [
    {
     "name": "stdout",
     "output_type": "stream",
     "text": [
      "{'name': 'ip-172-31-31-173', 'cluster_name': 'elasticsearch', 'cluster_uuid': 'xPko2ZaZRXmrvtt4TZfFUA', 'version': {'number': '7.10.2', 'build_flavor': 'oss', 'build_type': 'tar', 'build_hash': '1ccf5b0cb8a2bfc416b890745c2d336418d40c12', 'build_date': '2023-10-30T19:10:03.174087Z', 'build_snapshot': False, 'lucene_version': '8.7.0', 'minimum_wire_compatibility_version': '6.8.0', 'minimum_index_compatibility_version': '6.0.0-beta1'}, 'tagline': 'You Know, for Search'}\n"
     ]
    }
   ],
   "source": [
    "es= get_connection()\n",
    "print(es.info())"
   ]
  },
  {
   "cell_type": "code",
   "execution_count": 4,
   "metadata": {},
   "outputs": [
    {
     "name": "stdout",
     "output_type": "stream",
     "text": [
      "Индекс user_notes_index уже существует.\n"
     ]
    }
   ],
   "source": [
    "create_indexes()"
   ]
  },
  {
   "cell_type": "code",
   "execution_count": 5,
   "metadata": {},
   "outputs": [],
   "source": [
    "#add_note(261214835,\"Test2\",\"Test2_body\",[\"tag11\",\"tag22\"])"
   ]
  },
  {
   "cell_type": "code",
   "execution_count": 6,
   "metadata": {},
   "outputs": [
    {
     "name": "stdout",
     "output_type": "stream",
     "text": [
      "0\n",
      "[]\n"
     ]
    }
   ],
   "source": [
    "documents=get_notes_by_query(261214835, \"test\")\n",
    "print(len(documents))\n",
    "print(documents)"
   ]
  },
  {
   "cell_type": "code",
   "execution_count": 7,
   "metadata": {},
   "outputs": [
    {
     "name": "stdout",
     "output_type": "stream",
     "text": [
      "{'UserId': 261214835, 'Title': 'День рождения отца', 'Body': '19 декабря 1957 года', 'Tags': ['день рождения', 'семья'], 'CreatedDate': '2024-12-16T16:51:05+00:00', 'NoteId': '1734367865', 'Score': 0.0}\n",
      "{'UserId': 261214835, 'Title': 'Контакт Романа', 'Body': 'Телефон: 8-928-007-9596, Имя: Роман', 'Tags': ['контакты'], 'CreatedDate': '2024-12-17T11:11:30+00:00', 'NoteId': '1734433890', 'Score': 0.0}\n"
     ]
    }
   ],
   "source": [
    "founded_docs, documents=get_all_user_notes(261214835)\n",
    "print(founded_docs)\n",
    "print(documents)"
   ]
  },
  {
   "cell_type": "code",
   "execution_count": 8,
   "metadata": {},
   "outputs": [
    {
     "data": {
      "text/plain": [
       "[{'UserId': 261214835,\n",
       "  'Title': 'День рождения отца',\n",
       "  'Body': '19 декабря 1957 года',\n",
       "  'Tags': ['день рождения', 'семья'],\n",
       "  'CreatedDate': '2024-12-16T16:51:05+00:00',\n",
       "  'NoteId': '1734367865',\n",
       "  'Score': 2.0}]"
      ]
     },
     "execution_count": 8,
     "metadata": {},
     "output_type": "execute_result"
    }
   ],
   "source": [
    "get_notes_by_query(261214835, \"*\",\"2024-12-16T00:00:00Z\",\"2024-12-16T23:59:59Z\")"
   ]
  }
 ],
 "metadata": {
  "kernelspec": {
   "display_name": "base",
   "language": "python",
   "name": "python3"
  },
  "language_info": {
   "codemirror_mode": {
    "name": "ipython",
    "version": 3
   },
   "file_extension": ".py",
   "mimetype": "text/x-python",
   "name": "python",
   "nbconvert_exporter": "python",
   "pygments_lexer": "ipython3",
   "version": "3.12.3"
  }
 },
 "nbformat": 4,
 "nbformat_minor": 2
}
