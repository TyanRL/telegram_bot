{
 "cells": [
  {
   "cell_type": "code",
   "execution_count": 1,
   "metadata": {},
   "outputs": [],
   "source": [
    "import dotenv\n",
    "from elastic import get_connection, create_indexes, add_note, get_notes_by_query, get_all_user_notes"
   ]
  },
  {
   "cell_type": "code",
   "execution_count": 2,
   "metadata": {},
   "outputs": [
    {
     "data": {
      "text/plain": [
       "True"
      ]
     },
     "execution_count": 2,
     "metadata": {},
     "output_type": "execute_result"
    }
   ],
   "source": [
    "\n",
    "dotenv.load_dotenv()"
   ]
  },
  {
   "cell_type": "code",
   "execution_count": 3,
   "metadata": {},
   "outputs": [
    {
     "name": "stdout",
     "output_type": "stream",
     "text": [
      "{'name': 'ip-172-31-31-173', 'cluster_name': 'elasticsearch', 'cluster_uuid': 'xPko2ZaZRXmrvtt4TZfFUA', 'version': {'number': '7.10.2', 'build_flavor': 'oss', 'build_type': 'tar', 'build_hash': '1ccf5b0cb8a2bfc416b890745c2d336418d40c12', 'build_date': '2023-10-30T19:10:03.174087Z', 'build_snapshot': False, 'lucene_version': '8.7.0', 'minimum_wire_compatibility_version': '6.8.0', 'minimum_index_compatibility_version': '6.0.0-beta1'}, 'tagline': 'You Know, for Search'}\n"
     ]
    }
   ],
   "source": [
    "es= get_connection()\n",
    "print(es.info())"
   ]
  },
  {
   "cell_type": "code",
   "execution_count": 4,
   "metadata": {},
   "outputs": [
    {
     "name": "stdout",
     "output_type": "stream",
     "text": [
      "Индекс user_notes_index уже существует.\n"
     ]
    }
   ],
   "source": [
    "create_indexes()"
   ]
  },
  {
   "cell_type": "code",
   "execution_count": 5,
   "metadata": {},
   "outputs": [],
   "source": [
    "#add_note(261214835,\"Test2\",\"Test2_body\",[\"tag11\",\"tag22\"])"
   ]
  },
  {
   "cell_type": "code",
   "execution_count": 8,
   "metadata": {},
   "outputs": [
    {
     "name": "stdout",
     "output_type": "stream",
     "text": [
      "1\n",
      "[{'UserId': 261214835, 'Title': 'Test1', 'Body': 'Test1_body тест test', 'Tags': ['tag1', 'tag2'], 'CreatedDate': '2024-12-16T11:02:20+00:00', 'NoteId': '1734346940', 'Score': 0.5754429}]\n"
     ]
    }
   ],
   "source": [
    "documents=get_notes_by_query(261214835, \"test\")\n",
    "print(len(documents))\n",
    "print(documents)"
   ]
  },
  {
   "cell_type": "code",
   "execution_count": 9,
   "metadata": {},
   "outputs": [
    {
     "name": "stdout",
     "output_type": "stream",
     "text": [
      "{'UserId': 261214835, 'Title': 'Test2', 'Body': 'Test2_body', 'Tags': ['tag11', 'tag22'], 'CreatedDate': '2024-12-16T11:03:13+00:00', 'NoteId': '1734346993', 'Score': 0.0}\n",
      "{'UserId': 261214835, 'Title': 'Test1', 'Body': 'Test1_body тест test', 'Tags': ['tag1', 'tag2'], 'CreatedDate': '2024-12-16T11:02:20+00:00', 'NoteId': '1734346940', 'Score': 0.0}\n"
     ]
    }
   ],
   "source": [
    "founded_docs, documents=get_all_user_notes(261214835)\n",
    "print(founded_docs)\n",
    "print(documents)"
   ]
  }
 ],
 "metadata": {
  "kernelspec": {
   "display_name": "base",
   "language": "python",
   "name": "python3"
  },
  "language_info": {
   "codemirror_mode": {
    "name": "ipython",
    "version": 3
   },
   "file_extension": ".py",
   "mimetype": "text/x-python",
   "name": "python",
   "nbconvert_exporter": "python",
   "pygments_lexer": "ipython3",
   "version": "3.12.3"
  }
 },
 "nbformat": 4,
 "nbformat_minor": 2
}
